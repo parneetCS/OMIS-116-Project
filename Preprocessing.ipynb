{
 "cells": [
  {
   "cell_type": "markdown",
   "metadata": {},
   "source": [
    "Group Members: Sowmya Renukuntla, Parneet Kaur, Cheyenne Edwards\n",
    "\n",
    "OMIS 116: Applied Machine Learning\n",
    "\n",
    "Professor Wilson Lin"
   ]
  },
  {
   "cell_type": "markdown",
   "metadata": {},
   "source": [
    "# Table of Contents\n",
    "1. [Previewing the Data](#preview-data)\n",
    "    1. [Yield Data](#yield-data)\n",
    "    2. [Temperature Data](#temperature-data)\n",
    "    3. [Rainfall Data](#rainfall-data)\n",
    "    4. [Pesticides Data](#pesticides-data)\n",
    "2. [Merging Data](#merge-data) \n",
    "3. [Data Visualization](#data-visualization)"
   ]
  },
  {
   "cell_type": "markdown",
   "metadata": {},
   "source": [
    "#### Data Preprocessing and Cleaning "
   ]
  },
  {
   "cell_type": "code",
   "execution_count": 12,
   "metadata": {},
   "outputs": [],
   "source": [
    "# Important Libraries for Data Analysis \n",
    "import numpy as np\n",
    "import pandas as pd\n",
    "import matplotlib.pyplot as plt # Useful for Visualizating Missing Values or Distribuions\n",
    "import seaborn as sns"
   ]
  },
  {
   "cell_type": "code",
   "execution_count": 13,
   "metadata": {},
   "outputs": [],
   "source": [
    "# Loading all the datasets\n",
    "yield_df = pd.read_csv('yield.csv')\n",
    "rain_df = pd.read_csv('rainfall.csv')\n",
    "temp_df = pd.read_csv('temp.csv')\n",
    "pest_df = pd.read_csv('pesticides.csv')"
   ]
  },
  {
   "cell_type": "markdown",
   "metadata": {},
   "source": [
    "\n",
    "## Previewing the Data\n",
    "<a id=\"preview-data\"></a>"
   ]
  },
  {
   "cell_type": "markdown",
   "metadata": {},
   "source": [
    "Here are some reasons why we are previewing the data first even though there are four datasets at this moment: \n",
    "- Understand the structure (e.g. row and column count, data types, name formatting)\n",
    "- Identifying Missing Values \n",
    "- Identifying Duplicate Rows/Columns \n",
    "- Are there any outliers in the data?\n",
    "- Do we need to tranform the data in any way?"
   ]
  },
  {
   "cell_type": "code",
   "execution_count": 14,
   "metadata": {},
   "outputs": [
    {
     "name": "stdout",
     "output_type": "stream",
     "text": [
      "Yield Data:\n",
      "  Domain Code Domain  Area Code         Area  Element Code Element  Item Code  \\\n",
      "0          QC  Crops          2  Afghanistan          5419   Yield         56   \n",
      "1          QC  Crops          2  Afghanistan          5419   Yield         56   \n",
      "2          QC  Crops          2  Afghanistan          5419   Yield         56   \n",
      "3          QC  Crops          2  Afghanistan          5419   Yield         56   \n",
      "4          QC  Crops          2  Afghanistan          5419   Yield         56   \n",
      "\n",
      "    Item  Year Code  Year   Unit  Value  \n",
      "0  Maize       1961  1961  hg/ha  14000  \n",
      "1  Maize       1962  1962  hg/ha  14000  \n",
      "2  Maize       1963  1963  hg/ha  14260  \n",
      "3  Maize       1964  1964  hg/ha  14257  \n",
      "4  Maize       1965  1965  hg/ha  14400  \n",
      "\n",
      "Temperature Data:\n",
      "   year        country  avg_temp\n",
      "0  1849  Côte D'Ivoire     25.58\n",
      "1  1850  Côte D'Ivoire     25.52\n",
      "2  1851  Côte D'Ivoire     25.67\n",
      "3  1852  Côte D'Ivoire       NaN\n",
      "4  1853  Côte D'Ivoire       NaN\n",
      "\n",
      "Rainfall Data:\n",
      "          Area  Year average_rain_fall_mm_per_year\n",
      "0  Afghanistan  1985                           327\n",
      "1  Afghanistan  1986                           327\n",
      "2  Afghanistan  1987                           327\n",
      "3  Afghanistan  1989                           327\n",
      "4  Afghanistan  1990                           327\n",
      "\n",
      "Pesticides Data:\n",
      "           Domain     Area Element                Item  Year  \\\n",
      "0  Pesticides Use  Albania     Use  Pesticides (total)  1990   \n",
      "1  Pesticides Use  Albania     Use  Pesticides (total)  1991   \n",
      "2  Pesticides Use  Albania     Use  Pesticides (total)  1992   \n",
      "3  Pesticides Use  Albania     Use  Pesticides (total)  1993   \n",
      "4  Pesticides Use  Albania     Use  Pesticides (total)  1994   \n",
      "\n",
      "                           Unit  Value  \n",
      "0  tonnes of active ingredients  121.0  \n",
      "1  tonnes of active ingredients  121.0  \n",
      "2  tonnes of active ingredients  121.0  \n",
      "3  tonnes of active ingredients  121.0  \n",
      "4  tonnes of active ingredients  201.0  \n"
     ]
    }
   ],
   "source": [
    "print(\"Yield Data:\")\n",
    "print(yield_df.head())\n",
    "\n",
    "print(\"\\nTemperature Data:\")\n",
    "print(temp_df.head())\n",
    "\n",
    "print(\"\\nRainfall Data:\")\n",
    "print(rain_df.head())\n",
    "\n",
    "print(\"\\nPesticides Data:\")\n",
    "print(pest_df.head())"
   ]
  },
  {
   "cell_type": "markdown",
   "metadata": {},
   "source": [
    "## 1. Yield Data\n",
    "<a id=\"yield-data\"></a>"
   ]
  },
  {
   "cell_type": "code",
   "execution_count": 15,
   "metadata": {},
   "outputs": [
    {
     "data": {
      "text/html": [
       "<div>\n",
       "<style scoped>\n",
       "    .dataframe tbody tr th:only-of-type {\n",
       "        vertical-align: middle;\n",
       "    }\n",
       "\n",
       "    .dataframe tbody tr th {\n",
       "        vertical-align: top;\n",
       "    }\n",
       "\n",
       "    .dataframe thead th {\n",
       "        text-align: right;\n",
       "    }\n",
       "</style>\n",
       "<table border=\"1\" class=\"dataframe\">\n",
       "  <thead>\n",
       "    <tr style=\"text-align: right;\">\n",
       "      <th></th>\n",
       "      <th>Area Code</th>\n",
       "      <th>Element Code</th>\n",
       "      <th>Item Code</th>\n",
       "      <th>Year Code</th>\n",
       "      <th>Year</th>\n",
       "      <th>Value</th>\n",
       "    </tr>\n",
       "  </thead>\n",
       "  <tbody>\n",
       "    <tr>\n",
       "      <th>count</th>\n",
       "      <td>56717.000000</td>\n",
       "      <td>56717.0</td>\n",
       "      <td>56717.000000</td>\n",
       "      <td>56717.000000</td>\n",
       "      <td>56717.000000</td>\n",
       "      <td>56717.000000</td>\n",
       "    </tr>\n",
       "    <tr>\n",
       "      <th>mean</th>\n",
       "      <td>125.650422</td>\n",
       "      <td>5419.0</td>\n",
       "      <td>111.611651</td>\n",
       "      <td>1989.669570</td>\n",
       "      <td>1989.669570</td>\n",
       "      <td>62094.660084</td>\n",
       "    </tr>\n",
       "    <tr>\n",
       "      <th>std</th>\n",
       "      <td>75.120195</td>\n",
       "      <td>0.0</td>\n",
       "      <td>101.278435</td>\n",
       "      <td>16.133198</td>\n",
       "      <td>16.133198</td>\n",
       "      <td>67835.932856</td>\n",
       "    </tr>\n",
       "    <tr>\n",
       "      <th>min</th>\n",
       "      <td>1.000000</td>\n",
       "      <td>5419.0</td>\n",
       "      <td>15.000000</td>\n",
       "      <td>1961.000000</td>\n",
       "      <td>1961.000000</td>\n",
       "      <td>0.000000</td>\n",
       "    </tr>\n",
       "    <tr>\n",
       "      <th>25%</th>\n",
       "      <td>58.000000</td>\n",
       "      <td>5419.0</td>\n",
       "      <td>56.000000</td>\n",
       "      <td>1976.000000</td>\n",
       "      <td>1976.000000</td>\n",
       "      <td>15680.000000</td>\n",
       "    </tr>\n",
       "    <tr>\n",
       "      <th>50%</th>\n",
       "      <td>122.000000</td>\n",
       "      <td>5419.0</td>\n",
       "      <td>116.000000</td>\n",
       "      <td>1991.000000</td>\n",
       "      <td>1991.000000</td>\n",
       "      <td>36744.000000</td>\n",
       "    </tr>\n",
       "    <tr>\n",
       "      <th>75%</th>\n",
       "      <td>184.000000</td>\n",
       "      <td>5419.0</td>\n",
       "      <td>125.000000</td>\n",
       "      <td>2004.000000</td>\n",
       "      <td>2004.000000</td>\n",
       "      <td>86213.000000</td>\n",
       "    </tr>\n",
       "    <tr>\n",
       "      <th>max</th>\n",
       "      <td>351.000000</td>\n",
       "      <td>5419.0</td>\n",
       "      <td>489.000000</td>\n",
       "      <td>2016.000000</td>\n",
       "      <td>2016.000000</td>\n",
       "      <td>1000000.000000</td>\n",
       "    </tr>\n",
       "  </tbody>\n",
       "</table>\n",
       "</div>"
      ],
      "text/plain": [
       "          Area Code  Element Code     Item Code     Year Code          Year  \\\n",
       "count  56717.000000       56717.0  56717.000000  56717.000000  56717.000000   \n",
       "mean     125.650422        5419.0    111.611651   1989.669570   1989.669570   \n",
       "std       75.120195           0.0    101.278435     16.133198     16.133198   \n",
       "min        1.000000        5419.0     15.000000   1961.000000   1961.000000   \n",
       "25%       58.000000        5419.0     56.000000   1976.000000   1976.000000   \n",
       "50%      122.000000        5419.0    116.000000   1991.000000   1991.000000   \n",
       "75%      184.000000        5419.0    125.000000   2004.000000   2004.000000   \n",
       "max      351.000000        5419.0    489.000000   2016.000000   2016.000000   \n",
       "\n",
       "                Value  \n",
       "count    56717.000000  \n",
       "mean     62094.660084  \n",
       "std      67835.932856  \n",
       "min          0.000000  \n",
       "25%      15680.000000  \n",
       "50%      36744.000000  \n",
       "75%      86213.000000  \n",
       "max    1000000.000000  "
      ]
     },
     "execution_count": 15,
     "metadata": {},
     "output_type": "execute_result"
    }
   ],
   "source": [
    "yield_df.describe()"
   ]
  },
  {
   "cell_type": "code",
   "execution_count": 16,
   "metadata": {},
   "outputs": [
    {
     "name": "stdout",
     "output_type": "stream",
     "text": [
      "<class 'pandas.core.frame.DataFrame'>\n",
      "RangeIndex: 56717 entries, 0 to 56716\n",
      "Data columns (total 12 columns):\n",
      " #   Column        Non-Null Count  Dtype \n",
      "---  ------        --------------  ----- \n",
      " 0   Domain Code   56717 non-null  object\n",
      " 1   Domain        56717 non-null  object\n",
      " 2   Area Code     56717 non-null  int64 \n",
      " 3   Area          56717 non-null  object\n",
      " 4   Element Code  56717 non-null  int64 \n",
      " 5   Element       56717 non-null  object\n",
      " 6   Item Code     56717 non-null  int64 \n",
      " 7   Item          56717 non-null  object\n",
      " 8   Year Code     56717 non-null  int64 \n",
      " 9   Year          56717 non-null  int64 \n",
      " 10  Unit          56717 non-null  object\n",
      " 11  Value         56717 non-null  int64 \n",
      "dtypes: int64(6), object(6)\n",
      "memory usage: 5.2+ MB\n"
     ]
    }
   ],
   "source": [
    "yield_df.info()"
   ]
  },
  {
   "cell_type": "code",
   "execution_count": 17,
   "metadata": {},
   "outputs": [
    {
     "data": {
      "text/plain": [
       "212"
      ]
     },
     "execution_count": 17,
     "metadata": {},
     "output_type": "execute_result"
    }
   ],
   "source": [
    "# Check to see how many unique areas (countries) are in the dataset\n",
    "len(yield_df['Area'].unique())"
   ]
  },
  {
   "cell_type": "code",
   "execution_count": 18,
   "metadata": {},
   "outputs": [
    {
     "data": {
      "text/plain": [
       "56"
      ]
     },
     "execution_count": 18,
     "metadata": {},
     "output_type": "execute_result"
    }
   ],
   "source": [
    "# Check to see how many unique years are in the dataset\n",
    "len(yield_df['Year'].unique())"
   ]
  },
  {
   "cell_type": "markdown",
   "metadata": {},
   "source": [
    "We want to identify columns we only unique value only because these kinds of columns generally provide no new/useful information."
   ]
  },
  {
   "cell_type": "code",
   "execution_count": 33,
   "metadata": {},
   "outputs": [
    {
     "name": "stdout",
     "output_type": "stream",
     "text": [
      "Columns with a single unique value: ['Domain Code', 'Domain', 'Element Code', 'Element', 'Unit']\n"
     ]
    }
   ],
   "source": [
    "checkForConstant = [col for col in yield_df.columns if yield_df[col].nunique() == 1]\n",
    "\n",
    "print(\"Columns with a single unique value:\", checkForConstant)"
   ]
  },
  {
   "cell_type": "code",
   "execution_count": 34,
   "metadata": {},
   "outputs": [],
   "source": [
    "# Code Cell for Dropping Columns with a Single Unique Value"
   ]
  },
  {
   "cell_type": "code",
   "execution_count": 36,
   "metadata": {},
   "outputs": [
    {
     "data": {
      "text/plain": [
       "Domain Code     0\n",
       "Domain          0\n",
       "Area Code       0\n",
       "Area            0\n",
       "Element Code    0\n",
       "Element         0\n",
       "Item Code       0\n",
       "Item            0\n",
       "Year Code       0\n",
       "Year            0\n",
       "Unit            0\n",
       "Value           0\n",
       "dtype: int64"
      ]
     },
     "execution_count": 36,
     "metadata": {},
     "output_type": "execute_result"
    }
   ],
   "source": [
    "# No missing values in the dataset\n",
    "yield_df.isnull().sum()"
   ]
  },
  {
   "cell_type": "code",
   "execution_count": 77,
   "metadata": {},
   "outputs": [],
   "source": [
    "# Code Cell to Check for Duplicate Rows in the Dataset"
   ]
  },
  {
   "cell_type": "markdown",
   "metadata": {},
   "source": [
    "## 2. Temeprature Data\n",
    "<a id=temperature-data></a>"
   ]
  },
  {
   "cell_type": "code",
   "execution_count": 37,
   "metadata": {},
   "outputs": [
    {
     "data": {
      "text/html": [
       "<div>\n",
       "<style scoped>\n",
       "    .dataframe tbody tr th:only-of-type {\n",
       "        vertical-align: middle;\n",
       "    }\n",
       "\n",
       "    .dataframe tbody tr th {\n",
       "        vertical-align: top;\n",
       "    }\n",
       "\n",
       "    .dataframe thead th {\n",
       "        text-align: right;\n",
       "    }\n",
       "</style>\n",
       "<table border=\"1\" class=\"dataframe\">\n",
       "  <thead>\n",
       "    <tr style=\"text-align: right;\">\n",
       "      <th></th>\n",
       "      <th>year</th>\n",
       "      <th>avg_temp</th>\n",
       "    </tr>\n",
       "  </thead>\n",
       "  <tbody>\n",
       "    <tr>\n",
       "      <th>count</th>\n",
       "      <td>71311.000000</td>\n",
       "      <td>68764.000000</td>\n",
       "    </tr>\n",
       "    <tr>\n",
       "      <th>mean</th>\n",
       "      <td>1905.799007</td>\n",
       "      <td>16.183876</td>\n",
       "    </tr>\n",
       "    <tr>\n",
       "      <th>std</th>\n",
       "      <td>67.102099</td>\n",
       "      <td>7.592960</td>\n",
       "    </tr>\n",
       "    <tr>\n",
       "      <th>min</th>\n",
       "      <td>1743.000000</td>\n",
       "      <td>-14.350000</td>\n",
       "    </tr>\n",
       "    <tr>\n",
       "      <th>25%</th>\n",
       "      <td>1858.000000</td>\n",
       "      <td>9.750000</td>\n",
       "    </tr>\n",
       "    <tr>\n",
       "      <th>50%</th>\n",
       "      <td>1910.000000</td>\n",
       "      <td>16.140000</td>\n",
       "    </tr>\n",
       "    <tr>\n",
       "      <th>75%</th>\n",
       "      <td>1962.000000</td>\n",
       "      <td>23.762500</td>\n",
       "    </tr>\n",
       "    <tr>\n",
       "      <th>max</th>\n",
       "      <td>2013.000000</td>\n",
       "      <td>30.730000</td>\n",
       "    </tr>\n",
       "  </tbody>\n",
       "</table>\n",
       "</div>"
      ],
      "text/plain": [
       "               year      avg_temp\n",
       "count  71311.000000  68764.000000\n",
       "mean    1905.799007     16.183876\n",
       "std       67.102099      7.592960\n",
       "min     1743.000000    -14.350000\n",
       "25%     1858.000000      9.750000\n",
       "50%     1910.000000     16.140000\n",
       "75%     1962.000000     23.762500\n",
       "max     2013.000000     30.730000"
      ]
     },
     "execution_count": 37,
     "metadata": {},
     "output_type": "execute_result"
    }
   ],
   "source": [
    "temp_df.describe()"
   ]
  },
  {
   "cell_type": "code",
   "execution_count": 38,
   "metadata": {},
   "outputs": [
    {
     "name": "stdout",
     "output_type": "stream",
     "text": [
      "<class 'pandas.core.frame.DataFrame'>\n",
      "RangeIndex: 71311 entries, 0 to 71310\n",
      "Data columns (total 3 columns):\n",
      " #   Column    Non-Null Count  Dtype  \n",
      "---  ------    --------------  -----  \n",
      " 0   year      71311 non-null  int64  \n",
      " 1   country   71311 non-null  object \n",
      " 2   avg_temp  68764 non-null  float64\n",
      "dtypes: float64(1), int64(1), object(1)\n",
      "memory usage: 1.6+ MB\n"
     ]
    }
   ],
   "source": [
    "temp_df.info()"
   ]
  },
  {
   "cell_type": "code",
   "execution_count": 42,
   "metadata": {},
   "outputs": [
    {
     "name": "stdout",
     "output_type": "stream",
     "text": [
      "137\n"
     ]
    }
   ],
   "source": [
    "# Check to see how many unique areas (countries) are in the dataset\n",
    "print(len(temp_df['country'].unique()))"
   ]
  },
  {
   "cell_type": "code",
   "execution_count": 44,
   "metadata": {},
   "outputs": [
    {
     "name": "stdout",
     "output_type": "stream",
     "text": [
      "271\n"
     ]
    }
   ],
   "source": [
    "# Check to see how many unique years are in the dataset\n",
    "print(len(temp_df['year'].unique()))"
   ]
  },
  {
   "cell_type": "code",
   "execution_count": 39,
   "metadata": {},
   "outputs": [
    {
     "name": "stdout",
     "output_type": "stream",
     "text": [
      "Index(['year', 'country', 'avg_temp'], dtype='object')\n"
     ]
    }
   ],
   "source": [
    "print(temp_df.columns)"
   ]
  },
  {
   "cell_type": "markdown",
   "metadata": {},
   "source": [
    "We will rename the columns to make them more readable and understandable. We will keep the names constant across all datasets so that when we merge them into one dataset, it is easier to understand."
   ]
  },
  {
   "cell_type": "code",
   "execution_count": 45,
   "metadata": {},
   "outputs": [],
   "source": [
    "temp_df.rename(columns = {'year': 'Year', 'country': 'Area'}, inplace = True)"
   ]
  },
  {
   "cell_type": "code",
   "execution_count": 48,
   "metadata": {},
   "outputs": [
    {
     "data": {
      "text/plain": [
       "Index(['Year', 'Area', 'avg_temp'], dtype='object')"
      ]
     },
     "execution_count": 48,
     "metadata": {},
     "output_type": "execute_result"
    }
   ],
   "source": [
    "temp_df.columns"
   ]
  },
  {
   "cell_type": "code",
   "execution_count": 73,
   "metadata": {},
   "outputs": [
    {
     "data": {
      "text/plain": [
       "Year           0\n",
       "Area           0\n",
       "avg_temp    2547\n",
       "dtype: int64"
      ]
     },
     "execution_count": 73,
     "metadata": {},
     "output_type": "execute_result"
    }
   ],
   "source": [
    "# There are 2547 missing values in the dataset\n",
    "temp_df.isnull().sum()"
   ]
  },
  {
   "cell_type": "code",
   "execution_count": 74,
   "metadata": {},
   "outputs": [],
   "source": [
    "# Code Cell to Handle Missing Values in the Temperature Dataset"
   ]
  },
  {
   "cell_type": "code",
   "execution_count": 76,
   "metadata": {},
   "outputs": [],
   "source": [
    "# Code Cell to Check for Duplicate Rows in the Dataset"
   ]
  },
  {
   "cell_type": "markdown",
   "metadata": {},
   "source": [
    "## 3. Rainfall Data\n",
    "<a id=rainfall-data></a>\n"
   ]
  },
  {
   "cell_type": "code",
   "execution_count": 49,
   "metadata": {},
   "outputs": [
    {
     "data": {
      "text/html": [
       "<div>\n",
       "<style scoped>\n",
       "    .dataframe tbody tr th:only-of-type {\n",
       "        vertical-align: middle;\n",
       "    }\n",
       "\n",
       "    .dataframe tbody tr th {\n",
       "        vertical-align: top;\n",
       "    }\n",
       "\n",
       "    .dataframe thead th {\n",
       "        text-align: right;\n",
       "    }\n",
       "</style>\n",
       "<table border=\"1\" class=\"dataframe\">\n",
       "  <thead>\n",
       "    <tr style=\"text-align: right;\">\n",
       "      <th></th>\n",
       "      <th>Year</th>\n",
       "    </tr>\n",
       "  </thead>\n",
       "  <tbody>\n",
       "    <tr>\n",
       "      <th>count</th>\n",
       "      <td>6727.000000</td>\n",
       "    </tr>\n",
       "    <tr>\n",
       "      <th>mean</th>\n",
       "      <td>2001.354839</td>\n",
       "    </tr>\n",
       "    <tr>\n",
       "      <th>std</th>\n",
       "      <td>9.530114</td>\n",
       "    </tr>\n",
       "    <tr>\n",
       "      <th>min</th>\n",
       "      <td>1985.000000</td>\n",
       "    </tr>\n",
       "    <tr>\n",
       "      <th>25%</th>\n",
       "      <td>1993.000000</td>\n",
       "    </tr>\n",
       "    <tr>\n",
       "      <th>50%</th>\n",
       "      <td>2001.000000</td>\n",
       "    </tr>\n",
       "    <tr>\n",
       "      <th>75%</th>\n",
       "      <td>2010.000000</td>\n",
       "    </tr>\n",
       "    <tr>\n",
       "      <th>max</th>\n",
       "      <td>2017.000000</td>\n",
       "    </tr>\n",
       "  </tbody>\n",
       "</table>\n",
       "</div>"
      ],
      "text/plain": [
       "              Year\n",
       "count  6727.000000\n",
       "mean   2001.354839\n",
       "std       9.530114\n",
       "min    1985.000000\n",
       "25%    1993.000000\n",
       "50%    2001.000000\n",
       "75%    2010.000000\n",
       "max    2017.000000"
      ]
     },
     "execution_count": 49,
     "metadata": {},
     "output_type": "execute_result"
    }
   ],
   "source": [
    "rain_df.describe()"
   ]
  },
  {
   "cell_type": "code",
   "execution_count": 50,
   "metadata": {},
   "outputs": [
    {
     "name": "stdout",
     "output_type": "stream",
     "text": [
      "<class 'pandas.core.frame.DataFrame'>\n",
      "RangeIndex: 6727 entries, 0 to 6726\n",
      "Data columns (total 3 columns):\n",
      " #   Column                         Non-Null Count  Dtype \n",
      "---  ------                         --------------  ----- \n",
      " 0    Area                          6727 non-null   object\n",
      " 1   Year                           6727 non-null   int64 \n",
      " 2   average_rain_fall_mm_per_year  5953 non-null   object\n",
      "dtypes: int64(1), object(2)\n",
      "memory usage: 157.8+ KB\n"
     ]
    }
   ],
   "source": [
    "rain_df.info()"
   ]
  },
  {
   "cell_type": "code",
   "execution_count": 51,
   "metadata": {},
   "outputs": [
    {
     "data": {
      "text/plain": [
       "Index([' Area', 'Year', 'average_rain_fall_mm_per_year'], dtype='object')"
      ]
     },
     "execution_count": 51,
     "metadata": {},
     "output_type": "execute_result"
    }
   ],
   "source": [
    "rain_df.columns"
   ]
  },
  {
   "cell_type": "markdown",
   "metadata": {},
   "source": [
    "We can notice that the Area column has a whitespace at the beginning of the column name. We will remove that whitespace."
   ]
  },
  {
   "cell_type": "code",
   "execution_count": 55,
   "metadata": {},
   "outputs": [],
   "source": [
    "rain_df.columns = rain_df.columns.str.strip()"
   ]
  },
  {
   "cell_type": "code",
   "execution_count": 57,
   "metadata": {},
   "outputs": [
    {
     "name": "stdout",
     "output_type": "stream",
     "text": [
      "217\n"
     ]
    }
   ],
   "source": [
    "# Check to see how many unique areas (countries) are in the dataset\n",
    "print(len(rain_df['Area'].unique()))"
   ]
  },
  {
   "cell_type": "code",
   "execution_count": 59,
   "metadata": {},
   "outputs": [
    {
     "name": "stdout",
     "output_type": "stream",
     "text": [
      "31\n"
     ]
    }
   ],
   "source": [
    "# Check to see how many unique years are in the dataset\n",
    "print(len(rain_df['Year'].unique()))"
   ]
  },
  {
   "cell_type": "code",
   "execution_count": 78,
   "metadata": {},
   "outputs": [],
   "source": [
    "rain_df.rename(columns = {'average_rain_fall_mm_per_year': 'Average_Rainfall_Per_Year'}, inplace = True)"
   ]
  },
  {
   "cell_type": "code",
   "execution_count": 61,
   "metadata": {},
   "outputs": [
    {
     "data": {
      "text/plain": [
       "Index(['Area', 'Year', 'Average_Rainfall_Per_Year'], dtype='object')"
      ]
     },
     "execution_count": 61,
     "metadata": {},
     "output_type": "execute_result"
    }
   ],
   "source": [
    "rain_df.columns"
   ]
  },
  {
   "cell_type": "code",
   "execution_count": null,
   "metadata": {},
   "outputs": [
    {
     "data": {
      "text/plain": [
       "Area                           0\n",
       "Year                           0\n",
       "Average_Rainfall_Per_Year    774\n",
       "dtype: int64"
      ]
     },
     "execution_count": 70,
     "metadata": {},
     "output_type": "execute_result"
    }
   ],
   "source": [
    "# There are 774 missing values in the dataset\n",
    "rain_df.isnull().sum()"
   ]
  },
  {
   "cell_type": "markdown",
   "metadata": {},
   "source": [
    "Extracting Insights: \n",
    "1. Why is the data missing? Are missing values random or systematic?\n",
    "- Is it MCAR? (Missing Completely at Random) - This is what we hope for because it means that the missing data is not related to any other data in the dataset.\n",
    "- Is it MAR? (Missing at Random) - This means that the missing rainfall values only occur in specific regions. We would have to impute for region instead of global average. \n",
    "- Is it MNAR? (Missing Not at Random) - This means that the missing data could bias the model toward high-yield regions. This would require external data, but we do not have the ability to do so."
   ]
  },
  {
   "cell_type": "code",
   "execution_count": 86,
   "metadata": {},
   "outputs": [
    {
     "data": {
      "text/plain": [
       "American Samoa               31\n",
       "Aruba                        31\n",
       "Turks and Caicos Islands     31\n",
       "Tonga                        31\n",
       "St. Martin (French part)     31\n",
       "Sint Maarten (Dutch part)    31\n",
       "San Marino                   31\n",
       "Northern Mariana Islands     31\n",
       "New Caledonia                31\n",
       "Macao SAR, China             31\n",
       "Kosovo                       31\n",
       "Isle of Man                  31\n",
       "Hong Kong SAR, China         31\n",
       "Guam                         31\n",
       "Greenland                    31\n",
       "Gibraltar                    31\n",
       "French Polynesia             31\n",
       "Faroe Islands                31\n",
       "Curacao                      31\n",
       "Channel Islands              31\n",
       "Cayman Islands               31\n",
       "British Virgin Islands       31\n",
       "Bermuda                      31\n",
       "Virgin Islands (U.S.)        31\n",
       "Monaco                       30\n",
       "Name: Area, dtype: int64"
      ]
     },
     "execution_count": 86,
     "metadata": {},
     "output_type": "execute_result"
    }
   ],
   "source": [
    "rain_df[rain_df['Average_Rainfall_Per_Year'].isna()]['Area'].value_counts()"
   ]
  },
  {
   "cell_type": "markdown",
   "metadata": {},
   "source": [
    "Question: Do any of the countries above that have missing values also have at least some non-null values?"
   ]
  },
  {
   "cell_type": "code",
   "execution_count": 88,
   "metadata": {},
   "outputs": [],
   "source": [
    "missing_countries = rain_df[rain_df['Average_Rainfall_Per_Year'].isna()]['Area'].unique()"
   ]
  },
  {
   "cell_type": "code",
   "execution_count": 89,
   "metadata": {},
   "outputs": [
    {
     "name": "stdout",
     "output_type": "stream",
     "text": [
      "        Area Average_Rainfall_Per_Year\n",
      "4061  Monaco                        ..\n"
     ]
    }
   ],
   "source": [
    "check_for_non_null = rain_df[(rain_df['Area'].isin(missing_countries)) & (rain_df['Average_Rainfall_Per_Year'].notnull())]\n",
    "print(check_for_non_null[['Area', 'Average_Rainfall_Per_Year']].drop_duplicates())"
   ]
  },
  {
   "cell_type": "markdown",
   "metadata": {},
   "source": [
    "Only Monaco has a non-null value which is actually a blank space. We will consider this as a missing value and drop the row safely alongside the countries that have missing values."
   ]
  },
  {
   "cell_type": "code",
   "execution_count": 71,
   "metadata": {},
   "outputs": [],
   "source": [
    "# Code Cell for Handling Missing Values in the Rainfall Dataset"
   ]
  },
  {
   "cell_type": "code",
   "execution_count": 75,
   "metadata": {},
   "outputs": [],
   "source": [
    "# Code Cell to Check for Duplicate Rows in the Dataset"
   ]
  },
  {
   "cell_type": "markdown",
   "metadata": {},
   "source": [
    "## 4. Pesticide Data\n",
    "<a id=pesticides-data></a>"
   ]
  },
  {
   "cell_type": "code",
   "execution_count": 62,
   "metadata": {},
   "outputs": [
    {
     "data": {
      "text/html": [
       "<div>\n",
       "<style scoped>\n",
       "    .dataframe tbody tr th:only-of-type {\n",
       "        vertical-align: middle;\n",
       "    }\n",
       "\n",
       "    .dataframe tbody tr th {\n",
       "        vertical-align: top;\n",
       "    }\n",
       "\n",
       "    .dataframe thead th {\n",
       "        text-align: right;\n",
       "    }\n",
       "</style>\n",
       "<table border=\"1\" class=\"dataframe\">\n",
       "  <thead>\n",
       "    <tr style=\"text-align: right;\">\n",
       "      <th></th>\n",
       "      <th>Year</th>\n",
       "      <th>Value</th>\n",
       "    </tr>\n",
       "  </thead>\n",
       "  <tbody>\n",
       "    <tr>\n",
       "      <th>count</th>\n",
       "      <td>4349.000000</td>\n",
       "      <td>4.349000e+03</td>\n",
       "    </tr>\n",
       "    <tr>\n",
       "      <th>mean</th>\n",
       "      <td>2003.138883</td>\n",
       "      <td>2.030334e+04</td>\n",
       "    </tr>\n",
       "    <tr>\n",
       "      <th>std</th>\n",
       "      <td>7.728044</td>\n",
       "      <td>1.177362e+05</td>\n",
       "    </tr>\n",
       "    <tr>\n",
       "      <th>min</th>\n",
       "      <td>1990.000000</td>\n",
       "      <td>0.000000e+00</td>\n",
       "    </tr>\n",
       "    <tr>\n",
       "      <th>25%</th>\n",
       "      <td>1996.000000</td>\n",
       "      <td>9.300000e+01</td>\n",
       "    </tr>\n",
       "    <tr>\n",
       "      <th>50%</th>\n",
       "      <td>2003.000000</td>\n",
       "      <td>1.137560e+03</td>\n",
       "    </tr>\n",
       "    <tr>\n",
       "      <th>75%</th>\n",
       "      <td>2010.000000</td>\n",
       "      <td>7.869000e+03</td>\n",
       "    </tr>\n",
       "    <tr>\n",
       "      <th>max</th>\n",
       "      <td>2016.000000</td>\n",
       "      <td>1.807000e+06</td>\n",
       "    </tr>\n",
       "  </tbody>\n",
       "</table>\n",
       "</div>"
      ],
      "text/plain": [
       "              Year         Value\n",
       "count  4349.000000  4.349000e+03\n",
       "mean   2003.138883  2.030334e+04\n",
       "std       7.728044  1.177362e+05\n",
       "min    1990.000000  0.000000e+00\n",
       "25%    1996.000000  9.300000e+01\n",
       "50%    2003.000000  1.137560e+03\n",
       "75%    2010.000000  7.869000e+03\n",
       "max    2016.000000  1.807000e+06"
      ]
     },
     "execution_count": 62,
     "metadata": {},
     "output_type": "execute_result"
    }
   ],
   "source": [
    "pest_df.describe()"
   ]
  },
  {
   "cell_type": "code",
   "execution_count": 63,
   "metadata": {},
   "outputs": [
    {
     "name": "stdout",
     "output_type": "stream",
     "text": [
      "<class 'pandas.core.frame.DataFrame'>\n",
      "RangeIndex: 4349 entries, 0 to 4348\n",
      "Data columns (total 7 columns):\n",
      " #   Column   Non-Null Count  Dtype  \n",
      "---  ------   --------------  -----  \n",
      " 0   Domain   4349 non-null   object \n",
      " 1   Area     4349 non-null   object \n",
      " 2   Element  4349 non-null   object \n",
      " 3   Item     4349 non-null   object \n",
      " 4   Year     4349 non-null   int64  \n",
      " 5   Unit     4349 non-null   object \n",
      " 6   Value    4349 non-null   float64\n",
      "dtypes: float64(1), int64(1), object(5)\n",
      "memory usage: 238.0+ KB\n"
     ]
    }
   ],
   "source": [
    "pest_df.info()"
   ]
  },
  {
   "cell_type": "code",
   "execution_count": 64,
   "metadata": {},
   "outputs": [
    {
     "data": {
      "text/plain": [
       "Index(['Domain', 'Area', 'Element', 'Item', 'Year', 'Unit', 'Value'], dtype='object')"
      ]
     },
     "execution_count": 64,
     "metadata": {},
     "output_type": "execute_result"
    }
   ],
   "source": [
    "pest_df.columns"
   ]
  },
  {
   "cell_type": "code",
   "execution_count": 65,
   "metadata": {},
   "outputs": [
    {
     "name": "stdout",
     "output_type": "stream",
     "text": [
      "27\n"
     ]
    }
   ],
   "source": [
    "# Check to see how many unique areas (countries) are in the dataset\n",
    "print(len(pest_df['Year'].unique()))"
   ]
  },
  {
   "cell_type": "code",
   "execution_count": 66,
   "metadata": {},
   "outputs": [
    {
     "name": "stdout",
     "output_type": "stream",
     "text": [
      "168\n"
     ]
    }
   ],
   "source": [
    "# Check to see how many unique years are in the dataset\n",
    "print(len(pest_df['Area'].unique()))"
   ]
  },
  {
   "cell_type": "code",
   "execution_count": 67,
   "metadata": {},
   "outputs": [
    {
     "name": "stdout",
     "output_type": "stream",
     "text": [
      "Columns with a single unique value: ['Domain', 'Element', 'Item', 'Unit']\n"
     ]
    }
   ],
   "source": [
    "checkForConstant2 = [col for col in pest_df.columns if pest_df[col].nunique() == 1]\n",
    "\n",
    "print(\"Columns with a single unique value:\", checkForConstant2)"
   ]
  },
  {
   "cell_type": "code",
   "execution_count": 68,
   "metadata": {},
   "outputs": [],
   "source": [
    "# Code Cell for Dropping Columns with a Single Unique Value"
   ]
  },
  {
   "cell_type": "code",
   "execution_count": 69,
   "metadata": {},
   "outputs": [
    {
     "data": {
      "text/plain": [
       "Domain     0\n",
       "Area       0\n",
       "Element    0\n",
       "Item       0\n",
       "Year       0\n",
       "Unit       0\n",
       "Value      0\n",
       "dtype: int64"
      ]
     },
     "execution_count": 69,
     "metadata": {},
     "output_type": "execute_result"
    }
   ],
   "source": [
    "# There are no missing values in the dataset\n",
    "pest_df.isnull().sum()"
   ]
  },
  {
   "cell_type": "code",
   "execution_count": null,
   "metadata": {},
   "outputs": [],
   "source": [
    "# Code Cell to Check for Duplicate Rows in the Dataset"
   ]
  },
  {
   "cell_type": "markdown",
   "metadata": {},
   "source": [
    "## Merging Data\n",
    "<a id=\"merge-data\"></a>"
   ]
  },
  {
   "cell_type": "markdown",
   "metadata": {},
   "source": [
    "Merging all the data provides a single dataset that can be used for training and testing the model. This helps because many of the datasets had complementary information."
   ]
  },
  {
   "cell_type": "markdown",
   "metadata": {},
   "source": [
    "## Data Visualization\n",
    "<a id=\"data-visualization\"></a>"
   ]
  },
  {
   "cell_type": "markdown",
   "metadata": {},
   "source": [
    "1. Distribution of Numeric Variables"
   ]
  },
  {
   "cell_type": "markdown",
   "metadata": {},
   "source": [
    "Histograms of Crop Yield, Temperature, and Rainfall data."
   ]
  },
  {
   "cell_type": "code",
   "execution_count": null,
   "metadata": {},
   "outputs": [],
   "source": []
  },
  {
   "cell_type": "markdown",
   "metadata": {},
   "source": [
    "Boxplot for outliers detection in the 'Value_Yield' column"
   ]
  },
  {
   "cell_type": "code",
   "execution_count": null,
   "metadata": {},
   "outputs": [],
   "source": []
  },
  {
   "cell_type": "markdown",
   "metadata": {},
   "source": [
    "Line Plots Showing Trends by Year"
   ]
  },
  {
   "cell_type": "code",
   "execution_count": null,
   "metadata": {},
   "outputs": [],
   "source": []
  }
 ],
 "metadata": {
  "kernelspec": {
   "display_name": "Python 3",
   "language": "python",
   "name": "python3"
  },
  "language_info": {
   "codemirror_mode": {
    "name": "ipython",
    "version": 3
   },
   "file_extension": ".py",
   "mimetype": "text/x-python",
   "name": "python",
   "nbconvert_exporter": "python",
   "pygments_lexer": "ipython3",
   "version": "3.10.9"
  }
 },
 "nbformat": 4,
 "nbformat_minor": 2
}
